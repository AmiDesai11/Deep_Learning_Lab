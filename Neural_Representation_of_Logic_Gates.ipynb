{
  "cells": [
    {
      "cell_type": "code",
      "source": [
        "import numpy as np"
      ],
      "metadata": {
        "id": "FI7EnONP0SQG"
      },
      "execution_count": 2,
      "outputs": []
    },
    {
      "cell_type": "code",
      "source": [
        "test_1 = np.array([0, 0])\n",
        "test_2 = np.array([1, 0])\n",
        "test_3 = np.array([0, 1])\n",
        "test_4 = np.array([1, 1])"
      ],
      "metadata": {
        "id": "cxRkDT8E1O5q"
      },
      "execution_count": 3,
      "outputs": []
    },
    {
      "cell_type": "code",
      "source": [
        "def Step_Function(x):\n",
        "  if x >= 0:\n",
        "    x = 1\n",
        "  else:\n",
        "    x = 0\n",
        "  return x"
      ],
      "metadata": {
        "id": "h6usC9RO0TmI"
      },
      "execution_count": 4,
      "outputs": []
    },
    {
      "cell_type": "code",
      "source": [
        "def Perceptron(x, w, b):\n",
        "    v = np.dot(w, x) + b\n",
        "    y = Step_Function(v)\n",
        "    return y"
      ],
      "metadata": {
        "id": "mCcqjmLc2q9S"
      },
      "execution_count": 5,
      "outputs": []
    },
    {
      "cell_type": "code",
      "source": [
        "def AND_Function(x):\n",
        "    w = np.array([1, 1])\n",
        "    bAND = -1.5\n",
        "    return Perceptron(x, w, bAND)"
      ],
      "metadata": {
        "id": "nD2OMWMV0cFJ"
      },
      "execution_count": 6,
      "outputs": []
    },
    {
      "cell_type": "code",
      "source": [
        "def OR_Function(x):\n",
        "  w = np.array([1, 1])\n",
        "  bOR = -0.5\n",
        "  return Perceptron(x, w, bOR)"
      ],
      "metadata": {
        "id": "kmVaERmi0-g_"
      },
      "execution_count": 7,
      "outputs": []
    },
    {
      "cell_type": "code",
      "source": [
        "def NOT_Function(x):\n",
        "    wNOT = -1\n",
        "    bNOT = 0.5\n",
        "    return Perceptron(x, wNOT, bNOT)"
      ],
      "metadata": {
        "id": "SFjLIgXY29nS"
      },
      "execution_count": 8,
      "outputs": []
    },
    {
      "cell_type": "code",
      "source": [
        "def NOR_Function(x):\n",
        "    y1 = OR_Function(x)\n",
        "    y2 = NOT_Function(y1)\n",
        "    return y2"
      ],
      "metadata": {
        "id": "02b83N665Iw6"
      },
      "execution_count": 9,
      "outputs": []
    },
    {
      "cell_type": "code",
      "source": [
        "def NAND_Function(x):\n",
        "    y1 = AND_Function(x)\n",
        "    y2 = NOT_Function(y1)\n",
        "    return y2"
      ],
      "metadata": {
        "id": "ealukzDs5I6C"
      },
      "execution_count": 10,
      "outputs": []
    },
    {
      "cell_type": "code",
      "source": [
        "def XOR_Function(x):\n",
        "    y1 = AND_Function(x)\n",
        "    y2 = OR_Function(x)\n",
        "    y3 = NOT_Function(y1)\n",
        "    final_x = np.array([y2, y3])\n",
        "    finalOutput = AND_Function(final_x)\n",
        "    return finalOutput"
      ],
      "metadata": {
        "id": "lHj-kdmA3ASK"
      },
      "execution_count": 11,
      "outputs": []
    },
    {
      "cell_type": "code",
      "source": [
        "def XNOR_Function(x):\n",
        "    y1 = XOR_Function(x)\n",
        "    y2 = NOT_Function(y1)\n",
        "    return y2"
      ],
      "metadata": {
        "id": "MIFs-gbZ80CM"
      },
      "execution_count": 12,
      "outputs": []
    },
    {
      "cell_type": "code",
      "source": [
        "print(\"Coded By: Ami\")\n",
        "print(\"\\n\")\n",
        "print(\"AND({}, {}) = {}\".format(0, 0, AND_Function(test_1)))\n",
        "print(\"AND({}, {}) = {}\".format(1, 0, AND_Function(test_2)))\n",
        "print(\"AND({}, {}) = {}\".format(0, 1, AND_Function(test_3)))\n",
        "print(\"AND({}, {}) = {}\".format(1, 1, AND_Function(test_4)))\n",
        "print(\"\\n\")\n",
        "print(\"OR({}, {}) = {}\".format(0, 0, OR_Function(test_1)))\n",
        "print(\"OR({}, {}) = {}\".format(1, 0, OR_Function(test_2)))\n",
        "print(\"OR({}, {}) = {}\".format(0, 1, OR_Function(test_3)))\n",
        "print(\"OR({}, {}) = {}\".format(1, 1, OR_Function(test_4)))\n",
        "print(\"\\n\")\n",
        "print(\"NOR({}, {}) = {}\".format(0, 0, NOR_Function(test_1)))\n",
        "print(\"NOR({}, {}) = {}\".format(1, 0, NOR_Function(test_2)))\n",
        "print(\"NOR({}, {}) = {}\".format(0, 1, NOR_Function(test_3)))\n",
        "print(\"NOR({}, {}) = {}\".format(1, 1, NOR_Function(test_4)))\n",
        "print(\"\\n\")\n",
        "print(\"NAND({}, {}) = {}\".format(0, 0, NAND_Function(test_1)))\n",
        "print(\"NAND({}, {}) = {}\".format(1, 0, NAND_Function(test_2)))\n",
        "print(\"NAND({}, {}) = {}\".format(0, 1, NAND_Function(test_3)))\n",
        "print(\"NAND({}, {}) = {}\".format(1, 1, NAND_Function(test_4)))\n",
        "print(\"\\n\")\n",
        "print(\"XOR({}, {}) = {}\".format(0, 0, XOR_Function(test_1)))\n",
        "print(\"XOR({}, {}) = {}\".format(1, 0, XOR_Function(test_2)))\n",
        "print(\"XOR({}, {}) = {}\".format(0, 1, XOR_Function(test_3)))\n",
        "print(\"XOR({}, {}) = {}\".format(1, 1, XOR_Function(test_4)))\n",
        "print(\"\\n\")\n",
        "print(\"XNOR({}, {}) = {}\".format(0, 0, XNOR_Function(test_1)))\n",
        "print(\"XNOR({}, {}) = {}\".format(1, 0, XNOR_Function(test_2)))\n",
        "print(\"XNOR({}, {}) = {}\".format(0, 1, XNOR_Function(test_3)))\n",
        "print(\"XNOR({}, {}) = {}\".format(1, 1, XNOR_Function(test_4)))"
      ],
      "metadata": {
        "id": "qKktJ9Rv3EUS",
        "outputId": "6a20042c-07be-4d3b-ad9b-c76b0321bdea",
        "colab": {
          "base_uri": "https://localhost:8080/"
        }
      },
      "execution_count": 13,
      "outputs": [
        {
          "output_type": "stream",
          "name": "stdout",
          "text": [
            "Coded By: Ami\n",
            "\n",
            "\n",
            "AND(0, 0) = 0\n",
            "AND(1, 0) = 0\n",
            "AND(0, 1) = 0\n",
            "AND(1, 1) = 1\n",
            "\n",
            "\n",
            "OR(0, 0) = 0\n",
            "OR(1, 0) = 1\n",
            "OR(0, 1) = 1\n",
            "OR(1, 1) = 1\n",
            "\n",
            "\n",
            "NOR(0, 0) = 1\n",
            "NOR(1, 0) = 0\n",
            "NOR(0, 1) = 0\n",
            "NOR(1, 1) = 0\n",
            "\n",
            "\n",
            "NAND(0, 0) = 1\n",
            "NAND(1, 0) = 1\n",
            "NAND(0, 1) = 1\n",
            "NAND(1, 1) = 0\n",
            "\n",
            "\n",
            "XOR(0, 0) = 0\n",
            "XOR(1, 0) = 1\n",
            "XOR(0, 1) = 1\n",
            "XOR(1, 1) = 0\n",
            "\n",
            "\n",
            "XNOR(0, 0) = 1\n",
            "XNOR(1, 0) = 0\n",
            "XNOR(0, 1) = 0\n",
            "XNOR(1, 1) = 1\n"
          ]
        }
      ]
    },
    {
      "cell_type": "markdown",
      "source": [
        "**Answer 3:**\n",
        "\n",
        "The perceptron network is a simple form of neural network that can learn linearly separable patterns. However, it has limitations such as:\n",
        "\n",
        "*   It cannot handle non-linearly separable data, such as the XOR function.\n",
        "*   It can only train a single layer, which restricts its computational power.\n",
        "*   It can only learn simple problems, such as recognizing handwritten\n",
        "characters.\n",
        "\n"
      ],
      "metadata": {
        "id": "4d72jsxyCs2U"
      }
    },
    {
      "cell_type": "markdown",
      "source": [
        "**Conclusion:**\n",
        "\n",
        "In conclusion, our experiment to implement Boolean gates using perceptrons yielded the following results:\n",
        "\n",
        "*   AND and OR Gates: The perceptrons accurately represented the AND and OR gates, producing the expected outputs when given appropriate input combinations. This demonstrates that perceptrons can effectively simulate these basic logical operations.\n",
        "*   NOT Gate: The perceptron effectively implemented the NOT gate by inverting the input, consistent with the NOT gate's operation.\n",
        "\n",
        "*   NOR and NAND Gates: The perceptrons accurately modeled the NOR and NAND gates, producing outputs that were the opposites of each other and consistent with the expected behaviors of these gates.\n",
        "*   XOR and XNOR Gates: It was evident that XOR and XNOR gates could not be implemented with single perceptrons because they are not linearly separable. Implementing these gates would require more complex neural network architectures, such as multi-layer perceptrons.\n",
        "\n",
        "In summary, our experiment showcased the capability of single-layer perceptrons in representing fundamental Boolean gates like AND, OR, NOT, NOR, and NAND. However, it also highlighted their limitation when faced with non-linearly separable problems like XOR and XNOR gates, emphasizing the need for more complex neural network structures for handling such tasks. This experiment underscores the significance of understanding the capabilities and limitations of neural networks when tackling various computational problems.\n"
      ],
      "metadata": {
        "id": "p9mMhEKXFBwJ"
      }
    }
  ],
  "metadata": {
    "colab": {
      "provenance": []
    },
    "kernelspec": {
      "display_name": "Python 3",
      "name": "python3"
    }
  },
  "nbformat": 4,
  "nbformat_minor": 0
}